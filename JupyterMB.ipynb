{
 "cells": [
  {
   "cell_type": "code",
   "execution_count": null,
   "id": "4188c03a",
   "metadata": {},
   "outputs": [],
   "source": [
    "## 2 lists methods.\n",
    "#Asks name, asks age, prints out \"name is age years old\",\n",
    "# Keeps looping to ask for name and age again.\n",
    "# Now just need to append. We use append in here but it's not working.\n",
    "\n",
    "nameList = []\n",
    "ageList = []\n",
    "\n",
    "def addContact():\n",
    "    while True:\n",
    "        \n",
    "        newName = input(\"Enter name: \")\n",
    "        newAge = input(\"Enter age: \")\n",
    "\n",
    "        #if there is output\n",
    "        if newName != '' and newAge !='':\n",
    "            nameList.append(newName)\n",
    "            ageList.append(newAge)\n",
    "            print(newName + \" is \" + newAge + \" years old.\")\n",
    "\n",
    "        #if NO output\n",
    "        elif name == '' and age =='':\n",
    "            break\n",
    "\n",
    "addContact()"
   ]
  },
  {
   "cell_type": "code",
   "execution_count": null,
   "id": "c965775b",
   "metadata": {},
   "outputs": [],
   "source": [
    "nameList = ['Anna']\n",
    "\n",
    "#First function takes a name parameter and adds a new contact to the list\n",
    "def addContact():\n",
    "     while True:\n",
    "        \n",
    "        newName = input(\"Enter name: \")\n",
    "        \n",
    "        if newName != \"\":\n",
    "            nameList.append(newName)\n",
    "\n",
    "#Second function displays the nice, alphabetically sorted list of contacts. Might make it reverse later. \n",
    "def sortedDisplay(nameList):\n",
    "    nameList.sort()\n",
    "    print('\\n'.join(nameList))\n",
    "\n",
    "#function calls\n",
    "sortedDisplay(nameList)\n",
    "addContact()\n",
    "sortedDisplay(nameList)"
   ]
  },
  {
   "cell_type": "code",
   "execution_count": null,
   "id": "c861c4a2",
   "metadata": {},
   "outputs": [],
   "source": [
    "names = ['']\n",
    "ages = ['']\n",
    "\n",
    "while True:\n",
    "    newName = input('Enter name: ')\n",
    "    newAge = input('Enter age: ')\n",
    "    \n",
    "    #if there is input of name and age\n",
    "    if newName != '' and newAge !='':\n",
    "        x = newName + \" is \" + newAge + \" years old.\\n\"\n",
    "        print(x)\n",
    "        \n",
    "    \n",
    "## next thing to do is to join() the print(newName + \" is \" + newAge + \" years old.\")\n",
    "# you're not appending newname now. you're appending the string printout"
   ]
  },
  {
   "cell_type": "code",
   "execution_count": null,
   "id": "098b1a27",
   "metadata": {},
   "outputs": [],
   "source": [
    "# This is the code to print to new line. \n",
    "# Can it be used for dictionary too?\n",
    "# If can be used for dictionary, then can while loop be used for dictionary?\n",
    "# How to populate an empty dictionary?\n",
    "\n",
    "myTuple = (\"Ayuni is 38 years old.\", \"Noria is 50 years old\", \"Marikh is 12 years old\")\n",
    "x = \"\\n\".join(myTuple)\n",
    "print(x)"
   ]
  },
  {
   "cell_type": "code",
   "execution_count": null,
   "id": "2c14c43b",
   "metadata": {},
   "outputs": [],
   "source": [
    "# Use myTuple code above and use \\n to separate the lines.\n",
    "\n",
    "# Create an empty dictionary. Assign a variable to it ✅\n",
    "people = dict()\n",
    "\n",
    "# Create a while loop to give input. ✅\n",
    "while True:\n",
    "    key = input('Enter name: ')\n",
    "    value = input('Enter age: ')\n",
    "    people[key] = [value]\n",
    "    \n",
    "# Create an item() method for dictionary to print the input\n",
    "# 🛑 dict.items() takes no arguments (2 given). FIND OUT WHY\n",
    "    for k,v in people.items(key,value):\n",
    "        print(key + \" is \" + value + \" years old.\")\n",
    "    "
   ]
  },
  {
   "cell_type": "code",
   "execution_count": null,
   "id": "411eb90c",
   "metadata": {},
   "outputs": [],
   "source": [
    "## DAVE'S CODE: RAW FROM TWITTER\n",
    "\n",
    "a = []\n",
    "\n",
    "newName = \"Dave\"\n",
    "newAge = 56\n",
    "a += [(newName, newAge)]\n",
    "\n",
    "newName = \"Ayuni\"\n",
    "age = 38\n",
    "a += [(newName, newAge)]\n",
    "\n",
    "print(a)"
   ]
  },
  {
   "cell_type": "code",
   "execution_count": null,
   "id": "10577cfc",
   "metadata": {},
   "outputs": [
    {
     "name": "stdout",
     "output_type": "stream",
     "text": [
      "Enter name: Ayuni\n",
      "Enter age: 38\n",
      "Enter gender (M or F): F\n",
      "Ayuni is 38 years old F.\n"
     ]
    }
   ],
   "source": [
    "a = []\n",
    "\n",
    "while True:\n",
    "    newName = input('Enter name: ')\n",
    "    newAge = input('Enter age: ')\n",
    "    gender = input('Enter gender (M or F): ')\n",
    "    \n",
    "    #if there is input of name and age\n",
    "    if newName != '' and newAge !='':\n",
    "        a += [(newName, newAge)]\n",
    "    if gender == 'F':\n",
    "        \n",
    "        \n",
    "        for x in a:\n",
    "            print(x[0] + \" is \" + x[1] + \" years old \" + x[2] + \".\")\n",
    "            \n",
    "#WOOHOO! YOU DID IT!\n",
    "# Now let's sort it alphabetically. "
   ]
  },
  {
   "cell_type": "code",
   "execution_count": null,
   "id": "c5518cee",
   "metadata": {},
   "outputs": [],
   "source": [
    "gradebook = [('Math 212', 'Linear Algebra', 'Fall 2012', 'B'),  \n",
    "             ('CS 130', 'Python', 'Spring 2013', 'A')]\n",
    "\n",
    "for x in gradebook:\n",
    "    print(x[0], x[1])"
   ]
  },
  {
   "cell_type": "code",
   "execution_count": null,
   "id": "5ffc88b7",
   "metadata": {},
   "outputs": [],
   "source": [
    "myTuple = (\"Ayuni is 38 years old.\", \"Noria is 50 years old\", \"Marikh is 12 years old\")\n",
    "x = \"\\n\".join(myTuple)\n",
    "print(x)"
   ]
  },
  {
   "cell_type": "code",
   "execution_count": null,
   "id": "182c22f9",
   "metadata": {},
   "outputs": [],
   "source": []
  }
 ],
 "metadata": {
  "kernelspec": {
   "display_name": "Python 3 (ipykernel)",
   "language": "python",
   "name": "python3"
  },
  "language_info": {
   "codemirror_mode": {
    "name": "ipython",
    "version": 3
   },
   "file_extension": ".py",
   "mimetype": "text/x-python",
   "name": "python",
   "nbconvert_exporter": "python",
   "pygments_lexer": "ipython3",
   "version": "3.9.12"
  }
 },
 "nbformat": 4,
 "nbformat_minor": 5
}
