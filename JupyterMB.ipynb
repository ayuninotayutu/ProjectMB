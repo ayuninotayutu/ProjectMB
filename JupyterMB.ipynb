{
 "cells": [
  {
   "cell_type": "code",
   "execution_count": null,
   "id": "4188c03a",
   "metadata": {},
   "outputs": [],
   "source": [
    "## 2 lists methods.\n",
    "#Asks name, asks age, prints out \"name is age years old\",\n",
    "# Keeps looping to ask for name and age again.\n",
    "# Now just need to append. We use append in here but it's not working.\n",
    "\n",
    "nameList = []\n",
    "ageList = []\n",
    "\n",
    "def addContact():\n",
    "    while True:\n",
    "        \n",
    "        newName = input(\"Enter name: \")\n",
    "        newAge = input(\"Enter age: \")\n",
    "\n",
    "        #if there is output\n",
    "        if newName != '' and newAge !='':\n",
    "            nameList.append(newName)\n",
    "            ageList.append(newAge)\n",
    "            print(newName + \" is \" + newAge + \" years old.\")\n",
    "\n",
    "        #if NO output\n",
    "        elif name == '' and age =='':\n",
    "            break\n",
    "\n",
    "addContact()"
   ]
  },
  {
   "cell_type": "code",
   "execution_count": null,
   "id": "c965775b",
   "metadata": {},
   "outputs": [],
   "source": [
    "nameList = ['Anna']\n",
    "\n",
    "#First function takes a name parameter and adds a new contact to the list\n",
    "def addContact():\n",
    "     while True:\n",
    "        \n",
    "        newName = input(\"Enter name: \")\n",
    "        \n",
    "        if newName != \"\":\n",
    "            nameList.append(newName)\n",
    "\n",
    "#Second function displays the nice, alphabetically sorted list of contacts. Might make it reverse later. \n",
    "def sortedDisplay(nameList):\n",
    "    nameList.sort()\n",
    "    print('\\n'.join(nameList))\n",
    "\n",
    "#function calls\n",
    "sortedDisplay(nameList)\n",
    "addContact()\n",
    "sortedDisplay(nameList)"
   ]
  },
  {
   "cell_type": "code",
   "execution_count": null,
   "id": "c861c4a2",
   "metadata": {},
   "outputs": [
    {
     "name": "stdout",
     "output_type": "stream",
     "text": [
      "Enter name: Ayuni\n",
      "Enter age: 38\n",
      "Ayuni is 38 years old.\n",
      "\n",
      "Enter name: Nadia\n",
      "Enter age: 37\n",
      "Nadia is 37 years old.\n",
      "\n",
      "Enter name: Izura\n",
      "Enter age: 31 years old\n",
      "Izura is 31 years old years old.\n",
      "\n"
     ]
    }
   ],
   "source": [
    "names = ['']\n",
    "ages = ['']\n",
    "\n",
    "while True:\n",
    "    newName = input('Enter name: ')\n",
    "    newAge = input('Enter age: ')\n",
    "    \n",
    "    #if there is input of name and age\n",
    "    if newName != '' and newAge !='':\n",
    "        x = newName + \" is \" + newAge + \" years old.\\n\"\n",
    "        print(x)\n",
    "        \n",
    "    \n",
    "## next thing to do is to join() the print(newName + \" is \" + newAge + \" years old.\")\n",
    "# you're not appending newname now. you're appending the string printout"
   ]
  },
  {
   "cell_type": "code",
   "execution_count": 1,
   "id": "098b1a27",
   "metadata": {},
   "outputs": [
    {
     "name": "stdout",
     "output_type": "stream",
     "text": [
      "Ayuni is 38 years old.\n",
      "Noria is 50 years old\n",
      "Marikh is 12 years old\n"
     ]
    }
   ],
   "source": [
    "# This is the code to print to new line. \n",
    "# Can it be used for dictionary too?\n",
    "# If can be used for dictionary, then can while loop be used for dictionary?\n",
    "# How to populate an empty dictionary?\n",
    "\n",
    "myTuple = (\"Ayuni is 38 years old.\", \"Noria is 50 years old\", \"Marikh is 12 years old\")\n",
    "x = \"\\n\".join(myTuple)\n",
    "print(x)"
   ]
  },
  {
   "cell_type": "code",
   "execution_count": 7,
   "id": "2c14c43b",
   "metadata": {},
   "outputs": [
    {
     "name": "stdout",
     "output_type": "stream",
     "text": [
      "Enter name: Ayuni\n",
      "Enter age: 38\n"
     ]
    },
    {
     "ename": "TypeError",
     "evalue": "dict.items() takes no arguments (2 given)",
     "output_type": "error",
     "traceback": [
      "\u001b[0;31m---------------------------------------------------------------------------\u001b[0m",
      "\u001b[0;31mTypeError\u001b[0m                                 Traceback (most recent call last)",
      "Input \u001b[0;32mIn [7]\u001b[0m, in \u001b[0;36m<cell line: 9>\u001b[0;34m()\u001b[0m\n\u001b[1;32m     11\u001b[0m     people[key] \u001b[38;5;241m=\u001b[39m [value]\n\u001b[1;32m     13\u001b[0m \u001b[38;5;66;03m# Create an item() method for dictionary to print the input\u001b[39;00m\n\u001b[0;32m---> 14\u001b[0m     \u001b[38;5;28;01mfor\u001b[39;00m k,v \u001b[38;5;129;01min\u001b[39;00m \u001b[43mpeople\u001b[49m\u001b[38;5;241;43m.\u001b[39;49m\u001b[43mitems\u001b[49m\u001b[43m(\u001b[49m\u001b[43mkey\u001b[49m\u001b[43m,\u001b[49m\u001b[43mvalue\u001b[49m\u001b[43m)\u001b[49m:\n\u001b[1;32m     15\u001b[0m         \u001b[38;5;28mprint\u001b[39m(key \u001b[38;5;241m+\u001b[39m \u001b[38;5;124m\"\u001b[39m\u001b[38;5;124m is \u001b[39m\u001b[38;5;124m\"\u001b[39m \u001b[38;5;241m+\u001b[39m value \u001b[38;5;241m+\u001b[39m \u001b[38;5;124m\"\u001b[39m\u001b[38;5;124m years old.\u001b[39m\u001b[38;5;124m\"\u001b[39m)\n",
      "\u001b[0;31mTypeError\u001b[0m: dict.items() takes no arguments (2 given)"
     ]
    }
   ],
   "source": [
    "# Use myTuple code above and use \\n to separate the lines.\n",
    "\n",
    "# Create an empty dictionary. Assign a variable to it ✅\n",
    "people = dict()\n",
    "\n",
    "# Create a while loop to give input. ✅\n",
    "while True:\n",
    "    key = input('Enter name: ')\n",
    "    value = input('Enter age: ')\n",
    "    people[key] = [value]\n",
    "    \n",
    "# Create an item() method for dictionary to print the input\n",
    "# 🛑 dict.items() takes no arguments (2 given). FIND OUT WHY\n",
    "    for k,v in people.items(key,value):\n",
    "        print(key + \" is \" + value + \" years old.\")\n",
    "    "
   ]
  },
  {
   "cell_type": "code",
   "execution_count": 12,
   "id": "849f7222",
   "metadata": {},
   "outputs": [
    {
     "name": "stdout",
     "output_type": "stream",
     "text": [
      "[('Dave', 56), ('Ayuni', 56)]\n"
     ]
    }
   ],
   "source": [
    "## DAVE'S CODE: RAW FROM TWITTER\n",
    "\n",
    "a = []\n",
    "\n",
    "newName = \"Dave\"\n",
    "newAge = 56\n",
    "a += [(newName, newAge)]\n",
    "\n",
    "newName = \"Ayuni\"\n",
    "age = 38\n",
    "a += [(newName, newAge)]\n",
    "\n",
    "print(a)"
   ]
  },
  {
   "cell_type": "code",
   "execution_count": null,
   "id": "9bd671c1",
   "metadata": {},
   "outputs": [
    {
     "name": "stdout",
     "output_type": "stream",
     "text": [
      "Enter name: Ayuni\n",
      "Enter age: 38\n",
      "[('Ayuni', '38')]\n"
     ]
    }
   ],
   "source": [
    "## AYUNI'S CODE WITH DAVE'S TUPLE INPUT\n",
    "# so far it's working. Now i have to print it out\n",
    "\n",
    "a = []\n",
    "\n",
    "while True:\n",
    "    newName = input('Enter name: ')\n",
    "    newAge = input('Enter age: ')\n",
    "    \n",
    "    #if there is input of name and age\n",
    "    if newName != '' and newAge !='':\n",
    "        a += [(newName, newAge)]\n",
    "        print(a)\n",
    "        \n",
    "    \n",
    "## next thing to do is to join() the print(newName + \" is \" + newAge + \" years old.\")\n",
    "# you're not appending newname now. you're appending the string printout"
   ]
  },
  {
   "cell_type": "code",
   "execution_count": null,
   "id": "45c0f6c6",
   "metadata": {},
   "outputs": [],
   "source": [
    "myTuple = (\"Ayuni is 38 years old.\", \"Noria is 50 years old\", \"Marikh is 12 years old\")\n",
    "x = \"\\n\".join(myTuple)\n",
    "print(x)"
   ]
  },
  {
   "cell_type": "code",
   "execution_count": null,
   "id": "8cefd85d",
   "metadata": {},
   "outputs": [],
   "source": []
  }
 ],
 "metadata": {
  "kernelspec": {
   "display_name": "Python 3 (ipykernel)",
   "language": "python",
   "name": "python3"
  },
  "language_info": {
   "codemirror_mode": {
    "name": "ipython",
    "version": 3
   },
   "file_extension": ".py",
   "mimetype": "text/x-python",
   "name": "python",
   "nbconvert_exporter": "python",
   "pygments_lexer": "ipython3",
   "version": "3.9.12"
  }
 },
 "nbformat": 4,
 "nbformat_minor": 5
}
