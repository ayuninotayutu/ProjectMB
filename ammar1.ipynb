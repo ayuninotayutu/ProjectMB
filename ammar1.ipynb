{
 "cells": [
  {
   "cell_type": "markdown",
   "metadata": {},
   "source": [
    "# My First Notebook"
   ]
  },
  {
   "cell_type": "code",
   "execution_count": 1,
   "metadata": {},
   "outputs": [
    {
     "name": "stdout",
     "output_type": "stream",
     "text": [
      "CURRENT LIST WITH NO : {'Marikh': None, 'Khalil': None, 'Zeffyr': None}\n"
     ]
    }
   ],
   "source": [
    "empty_list = []\n",
    "\n",
    "while True:\n",
    "    name_input = input(\"Insert your name\")\n",
    "\n",
    "    if name_input == '':\n",
    "        break\n",
    "\n",
    "    empty_list.append(name_input)\n",
    "\n",
    "dict_name = dict.fromkeys(empty_list)\n",
    "\n",
    "print(\"CURRENT LIST WITH NO :\",dict_name)\n",
    "\n",
    "# insert the name that you want to update the age\n",
    "while True:\n",
    "    key = input(\"Insert the name of the person:\")\n",
    "    update_age = input(\"Insert your Age:\")\n",
    "\n",
    "    # if there is no input, press enter\n",
    "    # no input means it should break \n",
    "    if key == '' and update_age == '':\n",
    "        break \n",
    "\n",
    "    # if theres input, it will update the dict\n",
    "    else:\n",
    "        dict_name[key] = update_age\n",
    "\n",
    "print(\"UPDATED DICTIONARY:\", dict_name)"
   ]
  },
  {
   "cell_type": "code",
   "execution_count": null,
   "metadata": {},
   "outputs": [
    {
     "name": "stdout",
     "output_type": "stream",
     "text": [
      "['Ayuni']\n"
     ]
    }
   ],
   "source": []
  },
  {
   "cell_type": "markdown",
   "metadata": {},
   "source": []
  }
 ],
 "metadata": {
  "interpreter": {
   "hash": "aee8b7b246df8f9039afb4144a1f6fd8d2ca17a180786b69acc140d282b71a49"
  },
  "kernelspec": {
   "display_name": "Python 3.10.4 64-bit",
   "language": "python",
   "name": "python3"
  },
  "language_info": {
   "codemirror_mode": {
    "name": "ipython",
    "version": 3
   },
   "file_extension": ".py",
   "mimetype": "text/x-python",
   "name": "python",
   "nbconvert_exporter": "python",
   "pygments_lexer": "ipython3",
   "version": "3.10.4"
  },
  "orig_nbformat": 4
 },
 "nbformat": 4,
 "nbformat_minor": 2
}
