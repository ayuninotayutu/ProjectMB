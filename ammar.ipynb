nameList = []
nameInput = input("Insert your new name: ")

if nameInput == "":
    nameList.append("")

else:
    nameList.append(nameInput)

sortedNameList = nameList.sort()
print(nameList)